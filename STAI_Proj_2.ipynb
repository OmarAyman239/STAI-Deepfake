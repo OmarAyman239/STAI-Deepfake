{
  "cells": [
    {
      "cell_type": "markdown",
      "metadata": {
        "id": "view-in-github",
        "colab_type": "text"
      },
      "source": [
        "<a href=\"https://colab.research.google.com/github/OmarAyman239/STAI-Deepfake/blob/main/STAI_Proj_2.ipynb\" target=\"_parent\"><img src=\"https://colab.research.google.com/assets/colab-badge.svg\" alt=\"Open In Colab\"/></a>"
      ]
    },
    {
      "cell_type": "markdown",
      "metadata": {
        "id": "BUuQe5o0KVk-"
      },
      "source": [
        "##Importing necessary libraries"
      ]
    },
    {
      "cell_type": "code",
      "execution_count": null,
      "metadata": {
        "id": "7mufnDHSJvuW"
      },
      "outputs": [],
      "source": [
        "# Required Libraries\n",
        "import os\n",
        "import numpy as np\n",
        "from PIL import Image\n",
        "from sklearn.model_selection import KFold\n",
        "from sklearn.metrics import classification_report, confusion_matrix\n",
        "\n",
        "# PyTorch for AlexNet\n",
        "import torch\n",
        "import torch.nn as nn\n",
        "import torch.optim as optim\n",
        "from torchvision import models, transforms\n",
        "from torch.utils.data import DataLoader, TensorDataset\n",
        "\n",
        "# TensorFlow for VGG16\n",
        "import tensorflow as tf\n",
        "from tensorflow.keras.applications import VGG16\n",
        "from tensorflow.keras.models import Model\n",
        "from tensorflow.keras.layers import Dense, Flatten\n",
        "from tensorflow.keras.optimizers import SGD\n",
        "import kagglehub"
      ]
    },
    {
      "cell_type": "markdown",
      "metadata": {
        "id": "vvrgyj_EKeoJ"
      },
      "source": [
        "##Loading the dataset and checking its path"
      ]
    },
    {
      "cell_type": "code",
      "execution_count": null,
      "metadata": {
        "colab": {
          "base_uri": "https://localhost:8080/"
        },
        "id": "X8fP3s3_J4kH",
        "outputId": "5a8a3c83-33c1-44e2-bc64-1da7af1b8bcc"
      },
      "outputs": [
        {
          "output_type": "stream",
          "name": "stdout",
          "text": [
            "Path to dataset files: /root/.cache/kagglehub/datasets/vijaydevane/deepfake-detection-challenge-dataset-face-images/versions/1\n",
            "['real', 'fake']\n",
            "Real folder contents: ['bulkxhhknf_2.png', 'bzythlfnhq_0.png', 'dlpoieqvfb_4.png', 'eudeqjhdfd_7.png', 'ehtdtkmmli_7.png', 'dzyuwjkjui_2.png', 'axntxmycwd_1.png', 'aytzyidmgs_8.png', 'bilnggbxgu_1.png', 'aelfnikyqj_0.png', 'bmjzrlszhi_4.png', 'aytzyidmgs_3.png', 'eggbjzxnmg_4.png', 'dbnygxtwek_6.png', 'axntxmycwd_8.png', 'aybumesmpk_7.png', 'brwrlczjvi_5.png', 'dkuayagnmc_9.png', 'dakiztgtnw_3.png', 'asaxgevnnp_1.png', 'ellavthztb_7.png', 'bffwsjxghk_2.png', 'atkdltyyen_3.png', 'bddjdhzfze_9.png', 'ellavthztb_4.png', 'drcyabprvt_6.png', 'eqnoqyfquo_2.png', 'bffwsjxghk_3.png', 'agrmhtjdlk_2.png', 'anpuvshzoo_6.png', 'bdnaqemxmr_2.png', 'bulkxhhknf_8.png', 'dsjbknkujw_9.png', 'cpjxareypw_2.png', 'anpuvshzoo_7.png', 'bzythlfnhq_3.png', 'cppdvdejkc_8.png', 'dzyuwjkjui_8.png', 'asaxgevnnp_9.png', 'crezycjqyk_8.png', 'ccfoszqabv_8.png', 'ckkuyewywx_5.png', 'dakiztgtnw_9.png', 'dbnygxtwek_8.png', 'ecujsjhscd_3.png', 'ehtdtkmmli_3.png', 'eckvhdusax_1.png', 'aytzyidmgs_9.png', 'ellavthztb_3.png', 'erlvuvjsjf_6.png', 'clrycekyst_7.png', 'ccfoszqabv_7.png', 'bxzakyopjf_1.png', 'crezycjqyk_5.png', 'aybumesmpk_4.png', 'dxbqjxrhin_6.png', 'bdnaqemxmr_7.png', 'bgvhtpzknn_8.png', 'cyxlcuyznd_5.png', 'egghxjjmfg_8.png', 'aelfnikyqj_2.png', 'bwhlgysghg_2.png', 'bffwsjxghk_8.png', 'dhcndnuwta_0.png', 'eqnoqyfquo_5.png', 'ckjaibzfxa_0.png', 'ddepeddixj_8.png', 'ellavthztb_5.png', 'dxbqjxrhin_3.png', 'ajqslcypsw_1.png', 'bddjdhzfze_2.png', 'duycddgtrl_5.png', 'afoovlsmtx_9.png', 'dbnygxtwek_4.png', 'chviwxsfhg_2.png', 'ekcrtigpab_3.png', 'ahqqqilsxt_6.png', 'bgvhtpzknn_4.png', 'cmbzllswnl_5.png', 'cfxkpiweqt_0.png', 'dkzvdrzcnr_1.png', 'anpuvshzoo_8.png', 'atkdltyyen_8.png', 'chviwxsfhg_6.png', 'bgvhtpzknn_5.png', 'drcyabprvt_7.png', 'dzyuwjkjui_9.png', 'axntxmycwd_9.png', 'dkuayagnmc_4.png', 'djxdyjopjd_8.png', 'afoovlsmtx_2.png', 'ckjaibzfxa_1.png', 'duycddgtrl_6.png', 'eggbjzxnmg_6.png', 'aybgughjxh_5.png', 'dhxctgyoqj_0.png', 'chtapglbcj_6.png', 'bulkxhhknf_6.png', 'ekcrtigpab_2.png', 'bwipwzzxxu_1.png', 'ciyoudyhly_8.png', 'cobjrlugvp_1.png', 'dkzvdrzcnr_5.png', 'ddepeddixj_2.png', 'drcyabprvt_1.png', 'bgwmmujlmc_3.png', 'ckjaibzfxa_2.png', 'chtapglbcj_1.png', 'aytzyidmgs_6.png', 'cppdvdejkc_5.png', 'cizlkenljw_4.png', 'anpuvshzoo_1.png', 'drcyabprvt_5.png', 'dkuayagnmc_7.png', 'eggbjzxnmg_9.png', 'eggbjzxnmg_2.png', 'edyncaijwx_9.png', 'abarnvbtwb_5.png', 'bxzakyopjf_9.png', 'bffwsjxghk_6.png', 'bffwsjxghk_5.png', 'dlpoieqvfb_5.png', 'djxdyjopjd_5.png', 'clrycekyst_1.png', 'atkdltyyen_9.png', 'bwipwzzxxu_8.png', 'bulkxhhknf_7.png', 'beyebyhrph_7.png', 'efwfxwwlbw_1.png', 'djxdyjopjd_1.png', 'brwrlczjvi_8.png', 'ehccixxzoe_1.png', 'dkuayagnmc_3.png', 'cprhtltsjp_4.png', 'beyebyhrph_6.png', 'abarnvbtwb_2.png', 'dhxctgyoqj_9.png', 'ccfoszqabv_2.png', 'ecujsjhscd_6.png', 'cfxkpiweqt_9.png', 'duycddgtrl_2.png', 'beyebyhrph_2.png', 'bgwmmujlmc_9.png', 'bejhvclboh_9.png', 'beboztfcme_8.png', 'bffwsjxghk_4.png', 'ekcrtigpab_4.png', 'clrycekyst_6.png', 'bpapbctoao_5.png', 'egghxjjmfg_5.png', 'dxbqjxrhin_9.png', 'crezycjqyk_0.png', 'bmjzrlszhi_1.png', 'erlvuvjsjf_5.png', 'ecujsjhscd_2.png', 'bmjzrlszhi_3.png', 'bgvhtpzknn_7.png', 'dbtbbhakdv_2.png', 'ekcrtigpab_9.png', 'djxdyjopjd_9.png', 'eqnoqyfquo_1.png', 'ckjaibzfxa_7.png', 'dhxctgyoqj_1.png', 'dsjbknkujw_2.png', 'bmjzrlszhi_7.png', 'caifxvsozs_2.png', 'dsjbknkujw_3.png', 'cprhtltsjp_9.png', 'dsjbknkujw_6.png', 'eqnoqyfquo_6.png', 'eggbjzxnmg_5.png', 'dkzvdrzcnr_0.png', 'bffwsjxghk_9.png', 'cmbzllswnl_8.png', 'ccfoszqabv_6.png', 'ehtdtkmmli_4.png', 'dakiztgtnw_6.png', 'edyncaijwx_0.png', 'ddepeddixj_6.png', 'anpuvshzoo_3.png', 'eggbjzxnmg_0.png', 'cyxlcuyznd_4.png', 'bejhvclboh_3.png', 'agrmhtjdlk_7.png', 'dbtbbhakdv_3.png', 'dxbqjxrhin_8.png', 'bzythlfnhq_2.png', 'bulkxhhknf_3.png', 'ajqslcypsw_8.png', 'egghxjjmfg_7.png', 'ajqslcypsw_9.png', 'asaxgevnnp_2.png', 'cppdvdejkc_0.png', 'bdnaqemxmr_0.png', 'afoovlsmtx_6.png', 'bzythlfnhq_8.png', 'axntxmycwd_3.png', 'clrycekyst_4.png', 'djxdyjopjd_0.png', 'bdnaqemxmr_9.png', 'ahqqqilsxt_9.png', 'dhcndnuwta_1.png', 'cfxkpiweqt_2.png', 'crezycjqyk_2.png', 'dlpoieqvfb_2.png', 'agrmhtjdlk_8.png', 'aybumesmpk_2.png', 'cfxkpiweqt_6.png', 'crezycjqyk_3.png', 'chviwxsfhg_9.png', 'bwhlgysghg_7.png', 'ecujsjhscd_4.png', 'bxzakyopjf_0.png', 'dakiztgtnw_0.png', 'agrmhtjdlk_3.png', 'bgvhtpzknn_6.png', 'bulkxhhknf_1.png', 'dbnygxtwek_3.png', 'brwrlczjvi_7.png', 'bmjzrlszhi_2.png', 'bzythlfnhq_9.png', 'beyebyhrph_9.png', 'dxbqjxrhin_0.png', 'avmjormvsx_2.png', 'bgvhtpzknn_9.png', 'bejhvclboh_1.png', 'erlvuvjsjf_9.png', 'dlpoieqvfb_3.png', 'ajqslcypsw_4.png', 'cyxlcuyznd_8.png', 'eckvhdusax_4.png', 'cobjrlugvp_9.png', 'bgwmmujlmc_8.png', 'bffwsjxghk_0.png', 'cprhtltsjp_2.png', 'eckvhdusax_8.png', 'ecujsjhscd_8.png', 'ecujsjhscd_0.png', 'edyncaijwx_4.png', 'ehtdtkmmli_9.png', 'chviwxsfhg_7.png', 'cprhtltsjp_7.png', 'cobjrlugvp_2.png', 'ahqqqilsxt_0.png', 'ckjaibzfxa_4.png', 'dkuayagnmc_8.png', 'dbtbbhakdv_6.png', 'cprhtltsjp_0.png', 'ajqslcypsw_3.png', 'ehccixxzoe_7.png', 'cprhtltsjp_3.png', 'brwrlczjvi_1.png', 'dkzvdrzcnr_7.png', 'cppdvdejkc_6.png', 'ekcrtigpab_8.png', 'aelfnikyqj_5.png', 'bgwmmujlmc_4.png', 'cmbzllswnl_0.png', 'atkdltyyen_5.png', 'bdnaqemxmr_1.png', 'efwfxwwlbw_6.png', 'brwrlczjvi_9.png', 'cfxkpiweqt_1.png', 'bilnggbxgu_3.png', 'cizlkenljw_6.png', 'cpjxareypw_8.png', 'erlvuvjsjf_2.png', 'dsjbknkujw_1.png', 'ahqqqilsxt_3.png', 'caifxvsozs_3.png', 'dxbqjxrhin_2.png', 'cfxkpiweqt_8.png', 'anpuvshzoo_0.png', 'dhxctgyoqj_7.png', 'dxbqjxrhin_5.png', 'bilnggbxgu_4.png', 'aybumesmpk_0.png', 'dzyuwjkjui_1.png', 'cprhtltsjp_5.png', 'cyxlcuyznd_3.png', 'aelfnikyqj_4.png', 'djxdyjopjd_3.png', 'dhcndnuwta_6.png', 'aybgughjxh_4.png', 'ehccixxzoe_0.png', 'bpapbctoao_8.png', 'afoovlsmtx_0.png', 'cprhtltsjp_8.png', 'edyncaijwx_2.png', 'ciyoudyhly_0.png', 'cobjrlugvp_0.png', 'crezycjqyk_6.png', 'cmbzllswnl_6.png', 'eckvhdusax_3.png', 'beboztfcme_2.png', 'eudeqjhdfd_6.png', 'beyebyhrph_1.png', 'bpapbctoao_2.png', 'efwfxwwlbw_0.png', 'eckvhdusax_7.png', 'egghxjjmfg_6.png', 'cizlkenljw_7.png', 'djxdyjopjd_7.png', 'bxzakyopjf_4.png', 'ekcrtigpab_6.png', 'brwrlczjvi_6.png', 'ehtdtkmmli_8.png', 'bpapbctoao_1.png', 'bilnggbxgu_9.png', 'asaxgevnnp_4.png', 'bdnaqemxmr_8.png', 'bddjdhzfze_8.png', 'cfxkpiweqt_3.png', 'afoovlsmtx_3.png', 'anpuvshzoo_5.png', 'bilnggbxgu_6.png', 'axntxmycwd_2.png', 'eckvhdusax_2.png', 'bwipwzzxxu_4.png', 'ehccixxzoe_4.png', 'ecujsjhscd_7.png', 'ecujsjhscd_1.png', 'ciyoudyhly_4.png', 'dkzvdrzcnr_9.png', 'beyebyhrph_8.png', 'avmjormvsx_4.png', 'chtapglbcj_9.png', 'duycddgtrl_3.png', 'bilnggbxgu_7.png', 'chtapglbcj_3.png', 'eggbjzxnmg_3.png', 'eudeqjhdfd_8.png', 'bilnggbxgu_5.png', 'dbnygxtwek_7.png', 'anpuvshzoo_9.png', 'ehccixxzoe_9.png', 'dbtbbhakdv_4.png', 'cizlkenljw_2.png', 'dsjbknkujw_0.png', 'abarnvbtwb_0.png', 'beboztfcme_0.png', 'bffwsjxghk_1.png', 'bulkxhhknf_0.png', 'efwfxwwlbw_3.png', 'cppdvdejkc_1.png', 'beboztfcme_7.png', 'beboztfcme_1.png', 'cmbzllswnl_1.png', 'bxzakyopjf_3.png', 'ddepeddixj_0.png', 'dkzvdrzcnr_6.png', 'cpjxareypw_5.png', 'dhcndnuwta_4.png', 'cpjxareypw_4.png', 'ckjaibzfxa_6.png', 'eggbjzxnmg_1.png', 'bulkxhhknf_5.png', 'bwhlgysghg_5.png', 'bzythlfnhq_4.png', 'bzythlfnhq_6.png', 'bwipwzzxxu_6.png', 'cfxkpiweqt_7.png', 'chtapglbcj_7.png', 'ehccixxzoe_6.png', 'ellavthztb_2.png', 'dbnygxtwek_0.png', 'cizlkenljw_5.png', 'bejhvclboh_4.png', 'ellavthztb_6.png', 'crezycjqyk_1.png', 'ckkuyewywx_7.png', 'cppdvdejkc_9.png', 'asaxgevnnp_8.png', 'bwipwzzxxu_0.png', 'eqnoqyfquo_3.png', 'dakiztgtnw_5.png', 'clrycekyst_2.png', 'ajqslcypsw_5.png', 'agrmhtjdlk_6.png', 'bmjzrlszhi_5.png', 'bxzakyopjf_7.png', 'bejhvclboh_8.png', 'dbtbbhakdv_1.png', 'cobjrlugvp_3.png', 'bdnaqemxmr_6.png', 'cfxkpiweqt_4.png', 'dzyuwjkjui_5.png', 'brwrlczjvi_0.png', 'aytzyidmgs_7.png', 'bgvhtpzknn_0.png', 'ckjaibzfxa_8.png', 'ahqqqilsxt_8.png', 'cyxlcuyznd_6.png', 'bddjdhzfze_0.png', 'bdnaqemxmr_5.png', 'dkuayagnmc_2.png', 'ajqslcypsw_2.png', 'bejhvclboh_5.png', 'afoovlsmtx_1.png', 'ecujsjhscd_9.png', 'ckkuyewywx_8.png', 'ckkuyewywx_6.png', 'axntxmycwd_4.png', 'ciyoudyhly_5.png', 'dbnygxtwek_1.png', 'cizlkenljw_8.png', 'eggbjzxnmg_7.png', 'bdnaqemxmr_3.png', 'ehtdtkmmli_2.png', 'bgwmmujlmc_2.png', 'edyncaijwx_8.png', 'cmbzllswnl_9.png', 'dakiztgtnw_1.png', 'cppdvdejkc_7.png', 'efwfxwwlbw_2.png', 'ajqslcypsw_0.png', 'caifxvsozs_8.png', 'cmbzllswnl_7.png', 'bwhlgysghg_1.png', 'dkuayagnmc_6.png', 'bgwmmujlmc_0.png', 'ciyoudyhly_6.png', 'erlvuvjsjf_8.png', 'bwipwzzxxu_2.png', 'ckkuyewywx_0.png', 'clrycekyst_8.png', 'ellavthztb_1.png', 'erlvuvjsjf_1.png', 'ckkuyewywx_2.png', 'efwfxwwlbw_9.png', 'beyebyhrph_4.png', 'erlvuvjsjf_7.png', 'axntxmycwd_0.png', 'bddjdhzfze_1.png', 'aybgughjxh_9.png', 'dakiztgtnw_8.png', 'dzyuwjkjui_0.png', 'chtapglbcj_0.png', 'dhxctgyoqj_6.png', 'aelfnikyqj_3.png', 'ccfoszqabv_3.png', 'dkzvdrzcnr_8.png', 'cobjrlugvp_7.png', 'drcyabprvt_8.png', 'brwrlczjvi_4.png', 'eqnoqyfquo_7.png', 'avmjormvsx_3.png', 'eudeqjhdfd_1.png', 'bulkxhhknf_4.png', 'dkuayagnmc_5.png', 'atkdltyyen_1.png', 'avmjormvsx_0.png', 'duycddgtrl_8.png', 'clrycekyst_5.png', 'dsjbknkujw_5.png', 'egghxjjmfg_1.png', 'ccfoszqabv_9.png', 'aytzyidmgs_2.png', 'bgvhtpzknn_2.png', 'ckkuyewywx_9.png', 'asaxgevnnp_6.png', 'chtapglbcj_4.png', 'ckjaibzfxa_9.png', 'dhxctgyoqj_4.png', 'efwfxwwlbw_8.png', 'dbnygxtwek_9.png', 'bmjzrlszhi_6.png', 'crezycjqyk_7.png', 'ehccixxzoe_2.png', 'atkdltyyen_0.png', 'brwrlczjvi_2.png', 'ckjaibzfxa_3.png', 'dxbqjxrhin_7.png', 'dbtbbhakdv_5.png', 'drcyabprvt_4.png', 'caifxvsozs_4.png', 'asaxgevnnp_7.png', 'bgvhtpzknn_1.png', 'bejhvclboh_2.png', 'ellavthztb_8.png', 'bmjzrlszhi_8.png', 'eckvhdusax_5.png', 'aelfnikyqj_6.png', 'bddjdhzfze_6.png', 'bilnggbxgu_8.png', 'bejhvclboh_0.png', 'bwhlgysghg_4.png', 'dxbqjxrhin_1.png', 'aytzyidmgs_4.png', 'bzythlfnhq_1.png', 'dzyuwjkjui_4.png', 'edyncaijwx_1.png', 'aybgughjxh_1.png', 'crezycjqyk_9.png', 'abarnvbtwb_1.png', 'ellavthztb_0.png', 'aelfnikyqj_8.png', 'cyxlcuyznd_9.png', 'egghxjjmfg_4.png', 'dzyuwjkjui_6.png', 'cobjrlugvp_4.png', 'duycddgtrl_9.png', 'chviwxsfhg_8.png', 'chtapglbcj_8.png', 'efwfxwwlbw_4.png', 'avmjormvsx_6.png', 'duycddgtrl_0.png', 'edyncaijwx_6.png', 'ehccixxzoe_8.png', 'dhcndnuwta_7.png', 'dlpoieqvfb_8.png', 'dhcndnuwta_3.png', 'drcyabprvt_2.png', 'caifxvsozs_6.png', 'ccfoszqabv_0.png', 'ckkuyewywx_4.png', 'brwrlczjvi_3.png', 'bxzakyopjf_2.png', 'ekcrtigpab_7.png', 'ciyoudyhly_2.png', 'dbtbbhakdv_9.png', 'djxdyjopjd_4.png', 'afoovlsmtx_5.png', 'cpjxareypw_7.png', 'avmjormvsx_8.png', 'aybumesmpk_3.png', 'agrmhtjdlk_0.png', 'ecujsjhscd_5.png', 'duycddgtrl_7.png', 'cprhtltsjp_1.png', 'ccfoszqabv_5.png', 'djxdyjopjd_6.png', 'ciyoudyhly_1.png', 'cpjxareypw_6.png', 'dhxctgyoqj_8.png', 'egghxjjmfg_0.png', 'eggbjzxnmg_8.png', 'cpjxareypw_3.png', 'cpjxareypw_1.png', 'eqnoqyfquo_9.png', 'bgwmmujlmc_6.png', 'bpapbctoao_0.png', 'aybumesmpk_5.png', 'aybumesmpk_1.png', 'chviwxsfhg_0.png', 'cpjxareypw_0.png', 'eudeqjhdfd_2.png', 'ehtdtkmmli_5.png', 'atkdltyyen_7.png', 'ajqslcypsw_6.png', 'bwhlgysghg_9.png', 'avmjormvsx_7.png', 'bddjdhzfze_4.png', 'dhxctgyoqj_3.png', 'abarnvbtwb_4.png', 'dxbqjxrhin_4.png', 'ddepeddixj_9.png', 'clrycekyst_9.png', 'drcyabprvt_0.png', 'cizlkenljw_0.png', 'dzyuwjkjui_3.png', 'edyncaijwx_3.png', 'eqnoqyfquo_4.png', 'dhxctgyoqj_5.png', 'atkdltyyen_2.png', 'ahqqqilsxt_7.png', 'axntxmycwd_7.png', 'aybgughjxh_2.png', 'bulkxhhknf_9.png', 'efwfxwwlbw_7.png', 'djxdyjopjd_2.png', 'cppdvdejkc_4.png', 'aybumesmpk_8.png', 'ddepeddixj_5.png', 'ahqqqilsxt_4.png', 'bgwmmujlmc_7.png', 'caifxvsozs_1.png', 'chviwxsfhg_1.png', 'atkdltyyen_4.png', 'ehtdtkmmli_0.png', 'aybgughjxh_8.png', 'aelfnikyqj_1.png', 'ddepeddixj_1.png', 'cyxlcuyznd_1.png', 'avmjormvsx_9.png', 'cobjrlugvp_6.png', 'bdnaqemxmr_4.png', 'beyebyhrph_0.png', 'agrmhtjdlk_9.png', 'ddepeddixj_4.png', 'aybgughjxh_6.png', 'eudeqjhdfd_3.png', 'eqnoqyfquo_0.png', 'eckvhdusax_0.png', 'bpapbctoao_3.png', 'cmbzllswnl_3.png', 'aytzyidmgs_1.png', 'cizlkenljw_1.png', 'bgwmmujlmc_5.png', 'ekcrtigpab_1.png', 'caifxvsozs_9.png', 'dlpoieqvfb_7.png', 'eqnoqyfquo_8.png', 'dbnygxtwek_2.png', 'bwipwzzxxu_9.png', 'afoovlsmtx_8.png', 'clrycekyst_3.png', 'bddjdhzfze_5.png', 'ccfoszqabv_4.png', 'aelfnikyqj_7.png', 'ekcrtigpab_0.png', 'dbtbbhakdv_7.png', 'agrmhtjdlk_5.png', 'edyncaijwx_7.png', 'avmjormvsx_1.png', 'ahqqqilsxt_2.png', 'aybumesmpk_9.png', 'aytzyidmgs_0.png', 'bilnggbxgu_0.png', 'eckvhdusax_9.png', 'dbtbbhakdv_0.png', 'bxzakyopjf_6.png', 'abarnvbtwb_9.png', 'eudeqjhdfd_4.png', 'bmjzrlszhi_0.png', 'caifxvsozs_5.png', 'atkdltyyen_6.png', 'dzyuwjkjui_7.png', 'aybgughjxh_3.png', 'ehtdtkmmli_6.png', 'cyxlcuyznd_0.png', 'chviwxsfhg_3.png', 'bmjzrlszhi_9.png', 'bpapbctoao_7.png', 'cobjrlugvp_8.png', 'bilnggbxgu_2.png', 'bzythlfnhq_5.png', 'bpapbctoao_6.png', 'bwhlgysghg_6.png', 'dakiztgtnw_4.png', 'anpuvshzoo_2.png', 'cppdvdejkc_3.png', 'axntxmycwd_5.png', 'clrycekyst_0.png', 'dsjbknkujw_8.png', 'bffwsjxghk_7.png', 'eudeqjhdfd_0.png', 'cpjxareypw_9.png', 'dsjbknkujw_4.png', 'agrmhtjdlk_4.png', 'beboztfcme_5.png', 'beboztfcme_9.png', 'dhxctgyoqj_2.png', 'ehccixxzoe_5.png', 'erlvuvjsjf_3.png', 'bpapbctoao_9.png', 'ekcrtigpab_5.png', 'beyebyhrph_5.png', 'dhcndnuwta_8.png', 'beyebyhrph_3.png', 'bgwmmujlmc_1.png', 'chviwxsfhg_5.png', 'ajqslcypsw_7.png', 'chviwxsfhg_4.png', 'aybgughjxh_0.png', 'abarnvbtwb_3.png', 'cfxkpiweqt_5.png', 'duycddgtrl_1.png', 'dkuayagnmc_1.png', 'efwfxwwlbw_5.png', 'dkzvdrzcnr_2.png', 'bwipwzzxxu_5.png', 'dkuayagnmc_0.png', 'dkzvdrzcnr_3.png', 'bwhlgysghg_3.png', 'anpuvshzoo_4.png', 'dhcndnuwta_2.png', 'cprhtltsjp_6.png', 'drcyabprvt_3.png', 'cppdvdejkc_2.png', 'avmjormvsx_5.png', 'asaxgevnnp_0.png', 'egghxjjmfg_9.png', 'edyncaijwx_5.png', 'erlvuvjsjf_4.png', 'asaxgevnnp_3.png', 'bzythlfnhq_7.png', 'bddjdhzfze_3.png', 'bwhlgysghg_0.png', 'bpapbctoao_4.png', 'bddjdhzfze_7.png', 'beboztfcme_3.png', 'bxzakyopjf_5.png', 'bejhvclboh_6.png', 'eudeqjhdfd_5.png', 'bwipwzzxxu_3.png', 'dhcndnuwta_9.png', 'bgvhtpzknn_3.png', 'dlpoieqvfb_9.png', 'erlvuvjsjf_0.png', 'chtapglbcj_2.png', 'ciyoudyhly_7.png', 'caifxvsozs_0.png', 'cmbzllswnl_4.png', 'aybumesmpk_6.png', 'egghxjjmfg_2.png', 'cmbzllswnl_2.png', 'asaxgevnnp_5.png', 'ciyoudyhly_9.png', 'bwipwzzxxu_7.png', 'afoovlsmtx_4.png', 'bejhvclboh_7.png', 'ckkuyewywx_1.png', 'dakiztgtnw_7.png', 'dlpoieqvfb_0.png', 'ahqqqilsxt_1.png', 'dakiztgtnw_2.png', 'axntxmycwd_6.png', 'cyxlcuyznd_2.png', 'ehtdtkmmli_1.png', 'duycddgtrl_4.png', 'dlpoieqvfb_1.png', 'abarnvbtwb_8.png', 'cobjrlugvp_5.png', 'ahqqqilsxt_5.png', 'cizlkenljw_9.png', 'dsjbknkujw_7.png', 'ccfoszqabv_1.png', 'eckvhdusax_6.png', 'afoovlsmtx_7.png', 'crezycjqyk_4.png', 'drcyabprvt_9.png', 'cizlkenljw_3.png', 'eudeqjhdfd_9.png', 'agrmhtjdlk_1.png', 'dlpoieqvfb_6.png', 'dbnygxtwek_5.png', 'aytzyidmgs_5.png', 'ehccixxzoe_3.png', 'ddepeddixj_7.png', 'aelfnikyqj_9.png', 'ddepeddixj_3.png', 'beboztfcme_4.png', 'cyxlcuyznd_7.png', 'dkzvdrzcnr_4.png', 'abarnvbtwb_6.png', 'ckjaibzfxa_5.png', 'ciyoudyhly_3.png', 'dhcndnuwta_5.png', 'bxzakyopjf_8.png', 'chtapglbcj_5.png', 'aybgughjxh_7.png', 'caifxvsozs_7.png', 'ckkuyewywx_3.png', 'bwhlgysghg_8.png', 'abarnvbtwb_7.png', 'ellavthztb_9.png', 'egghxjjmfg_3.png', 'beboztfcme_6.png', 'dbtbbhakdv_8.png']\n",
            "Fake folder contents: ['avgiuextiz_4.png', 'avywawptfc_4.png', 'aipfdnwpoo_9.png', 'awukslzjra_4.png', 'aladcziidp_5.png', 'azsmewqghg_3.png', 'axwovszumc_8.png', 'bbhpvrmbse_5.png', 'acqfdwsrhi_3.png', 'atzdznmder_6.png', 'azpuxunqyo_7.png', 'avibnnhwhp_7.png', 'alvgwypubw_8.png', 'aqpnvjhuzw_2.png', 'alaijyygdv_3.png', 'axwovszumc_5.png', 'bahdpoesir_5.png', 'bahdpoesir_7.png', 'akvmwkdyuv_5.png', 'augtsuxpzc_7.png', 'aklqzsddfl_2.png', 'aevrfsexku_0.png', 'alninxcyhg_2.png', 'azpuxunqyo_5.png', 'amowujxmzc_8.png', 'arkroixhey_1.png', 'aknbdpmgua_0.png', 'bbhpvrmbse_2.png', 'avgiuextiz_6.png', 'asvcrfdpnq_4.png', 'avfitoutyn_1.png', 'akzbnazxtz_8.png', 'bdbhekrrwo_8.png', 'axczxisdtb_2.png', 'awhmfnnjih_1.png', 'benmsfzfaz_0.png', 'avssvvsdhz_0.png', 'adohikbdaz_0.png', 'aqpnvjhuzw_0.png', 'asdpeebotb_9.png', 'ajwpjhrbcv_9.png', 'bgaogsjehq_2.png', 'asvcrfdpnq_3.png', 'acifjvzvpm_6.png', 'avfitoutyn_9.png', 'bbhtdfuqxq_5.png', 'adohikbdaz_4.png', 'aelzhcnwgf_6.png', 'avssvvsdhz_2.png', 'aneclqfpbt_7.png', 'altziddtxi_1.png', 'aknbdpmgua_1.png', 'aettqgevhz_9.png', 'avtycwsgyb_3.png', 'bbhtdfuqxq_9.png', 'alninxcyhg_7.png', 'aorjvbyxhw_1.png', 'atzdznmder_3.png', 'bahdpoesir_2.png', 'acqfdwsrhi_7.png', 'azpuxunqyo_3.png', 'altziddtxi_7.png', 'avywawptfc_8.png', 'apatcsqejh_2.png', 'aufmsmnoye_5.png', 'acqfdwsrhi_6.png', 'ajwpjhrbcv_4.png', 'aslsvlvpth_8.png', 'apogckdfrz_3.png', 'avfitoutyn_8.png', 'bgaogsjehq_9.png', 'akxoopqjqz_3.png', 'apatcsqejh_4.png', 'aknbdpmgua_2.png', 'acqfdwsrhi_8.png', 'azsmewqghg_6.png', 'ahdbuwqxit_5.png', 'azpuxunqyo_8.png', 'agdkmztvby_2.png', 'amowujxmzc_1.png', 'asdpeebotb_2.png', 'agdkmztvby_9.png', 'aettqgevhz_3.png', 'abqwwspghj_7.png', 'ajwpjhrbcv_8.png', 'altziddtxi_4.png', 'benmsfzfaz_8.png', 'augtsuxpzc_6.png', 'asmpfjfzif_4.png', 'avibnnhwhp_1.png', 'aslsvlvpth_5.png', 'apgjqzkoma_6.png', 'awnwkrqibf_3.png', 'benmsfzfaz_5.png', 'atyntldecu_5.png', 'asmpfjfzif_0.png', 'azpuxunqyo_6.png', 'amaivqofda_4.png', 'ajwpjhrbcv_6.png', 'adohikbdaz_3.png', 'alaijyygdv_7.png', 'acxnxvbsxk_4.png', 'agdkmztvby_7.png', 'altziddtxi_0.png', 'atzdznmder_0.png', 'aknmpoonls_7.png', 'arkroixhey_8.png', 'bgaogsjehq_4.png', 'bbhpvrmbse_4.png', 'ahfazfbntc_6.png', 'adylbeequz_1.png', 'aczrgyricp_8.png', 'akxoopqjqz_0.png', 'avnqydkqjj_9.png', 'adohikbdaz_5.png', 'agqphdxmwt_6.png', 'apatcsqejh_3.png', 'aklqzsddfl_0.png', 'bbhtdfuqxq_2.png', 'amowujxmzc_7.png', 'awnwkrqibf_9.png', 'aklqzsddfl_8.png', 'aufmsmnoye_1.png', 'ahfazfbntc_2.png', 'arrhsnjqku_1.png', 'aagfhgtpmv_9.png', 'agqphdxmwt_4.png', 'aknbdpmgua_6.png', 'bdxuhamuqx_9.png', 'ahbweevwpv_6.png', 'avibnnhwhp_3.png', 'aklqzsddfl_9.png', 'avywawptfc_0.png', 'bctvsmddgq_2.png', 'awnwkrqibf_8.png', 'bahdpoesir_0.png', 'atxvxouljq_7.png', 'avnqydkqjj_5.png', 'bctvsmddgq_8.png', 'awnwkrqibf_5.png', 'avywawptfc_5.png', 'aagfhgtpmv_5.png', 'arrhsnjqku_4.png', 'alaijyygdv_9.png', 'avnqydkqjj_3.png', 'arrhsnjqku_6.png', 'alninxcyhg_4.png', 'bdgipnyobr_7.png', 'ahbweevwpv_7.png', 'avfitoutyn_6.png', 'arrhsnjqku_2.png', 'aipfdnwpoo_5.png', 'awhmfnnjih_8.png', 'bchnbulevv_5.png', 'aagfhgtpmv_0.png', 'aapnvogymq_1.png', 'amaivqofda_0.png', 'axwovszumc_1.png', 'atyntldecu_9.png', 'agqphdxmwt_1.png', 'alvgwypubw_9.png', 'amaivqofda_8.png', 'altziddtxi_6.png', 'aorjvbyxhw_0.png', 'augtsuxpzc_1.png', 'aevrfsexku_2.png', 'aapnvogymq_2.png', 'akvmwkdyuv_4.png', 'avnqydkqjj_4.png', 'bdbhekrrwo_6.png', 'aufmsmnoye_0.png', 'aklqzsddfl_6.png', 'bchnbulevv_7.png', 'avibnnhwhp_6.png', 'avtycwsgyb_9.png', 'awukslzjra_7.png', 'bdxuhamuqx_2.png', 'amaivqofda_2.png', 'aufmsmnoye_4.png', 'aneclqfpbt_4.png', 'arrhsnjqku_9.png', 'bahdpoesir_6.png', 'benmsfzfaz_7.png', 'apatcsqejh_1.png', 'abqwwspghj_9.png', 'asvcrfdpnq_1.png', 'akzbnazxtz_9.png', 'bgaogsjehq_0.png', 'aknmpoonls_8.png', 'aettqgevhz_6.png', 'akzbnazxtz_3.png', 'asmpfjfzif_8.png', 'avywawptfc_2.png', 'amowujxmzc_3.png', 'abqwwspghj_2.png', 'ahfazfbntc_5.png', 'aslsvlvpth_4.png', 'aipfdnwpoo_3.png', 'agdkmztvby_3.png', 'ahdbuwqxit_1.png', 'aorjvbyxhw_4.png', 'apatcsqejh_0.png', 'aczrgyricp_7.png', 'akxoopqjqz_2.png', 'avibnnhwhp_9.png', 'asmpfjfzif_7.png', 'arlmiizoob_9.png', 'atxvxouljq_0.png', 'bdbhekrrwo_5.png', 'adylbeequz_4.png', 'aczrgyricp_1.png', 'atxvxouljq_6.png', 'atxvxouljq_1.png', 'aladcziidp_9.png', 'amaivqofda_7.png', 'arlmiizoob_5.png', 'altziddtxi_3.png', 'aevrfsexku_6.png', 'awukslzjra_2.png', 'aorjvbyxhw_5.png', 'bdxuhamuqx_4.png', 'aneclqfpbt_2.png', 'aufmsmnoye_3.png', 'adohikbdaz_1.png', 'bahdpoesir_3.png', 'aelzhcnwgf_8.png', 'bchnbulevv_4.png', 'augtsuxpzc_2.png', 'arlmiizoob_8.png', 'asdpeebotb_8.png', 'bahdpoesir_1.png', 'apatcsqejh_8.png', 'asvcrfdpnq_7.png', 'azpuxunqyo_4.png', 'aettqgevhz_7.png', 'acifjvzvpm_7.png', 'acifjvzvpm_1.png', 'acifjvzvpm_0.png', 'bbhpvrmbse_9.png', 'arrhsnjqku_3.png', 'asmpfjfzif_9.png', 'atzdznmder_7.png', 'acqfdwsrhi_5.png', 'bctvsmddgq_4.png', 'aqpnvjhuzw_1.png', 'alninxcyhg_1.png', 'acxnxvbsxk_2.png', 'aufmsmnoye_9.png', 'bdxuhamuqx_1.png', 'aknmpoonls_1.png', 'amaivqofda_3.png', 'acxnxvbsxk_9.png', 'arkroixhey_0.png', 'alvgwypubw_2.png', 'akxoopqjqz_5.png', 'axczxisdtb_7.png', 'aczrgyricp_3.png', 'acxnxvbsxk_5.png', 'aknbdpmgua_9.png', 'ajwpjhrbcv_1.png', 'aettqgevhz_5.png', 'alninxcyhg_8.png', 'apogckdfrz_5.png', 'altziddtxi_2.png', 'acifjvzvpm_4.png', 'apgjqzkoma_0.png', 'bbhpvrmbse_8.png', 'alninxcyhg_5.png', 'atxvxouljq_5.png', 'avibnnhwhp_8.png', 'amowujxmzc_0.png', 'alvgwypubw_3.png', 'aczrgyricp_5.png', 'aknmpoonls_5.png', 'axoygtekut_2.png', 'acqfdwsrhi_1.png', 'asdpeebotb_5.png', 'apgjqzkoma_7.png', 'alvgwypubw_4.png', 'bgaogsjehq_1.png', 'awhmfnnjih_0.png', 'axoygtekut_3.png', 'arlmiizoob_0.png', 'amowujxmzc_5.png', 'aettqgevhz_8.png', 'apgjqzkoma_9.png', 'aapnvogymq_3.png', 'aneclqfpbt_8.png', 'aagfhgtpmv_6.png', 'ayqvfdhslr_9.png', 'akvmwkdyuv_0.png', 'ahfazfbntc_8.png', 'aelzhcnwgf_0.png', 'acxnxvbsxk_8.png', 'amaivqofda_5.png', 'aladcziidp_2.png', 'alaijyygdv_4.png', 'aczrgyricp_2.png', 'apogckdfrz_7.png', 'aagfhgtpmv_7.png', 'ahdbuwqxit_3.png', 'augtsuxpzc_3.png', 'avywawptfc_9.png', 'avibnnhwhp_0.png', 'bctvsmddgq_5.png', 'ahbweevwpv_0.png', 'awnwkrqibf_7.png', 'apgjqzkoma_4.png', 'aladcziidp_4.png', 'aslsvlvpth_1.png', 'akzbnazxtz_6.png', 'adylbeequz_3.png', 'alvgwypubw_7.png', 'akxoopqjqz_9.png', 'adylbeequz_6.png', 'aladcziidp_8.png', 'axoygtekut_0.png', 'benmsfzfaz_6.png', 'aklqzsddfl_4.png', 'aapnvogymq_8.png', 'amaivqofda_1.png', 'bbhtdfuqxq_0.png', 'agqphdxmwt_0.png', 'augtsuxpzc_8.png', 'agqphdxmwt_7.png', 'asdpeebotb_0.png', 'bbhtdfuqxq_3.png', 'awukslzjra_9.png', 'bctvsmddgq_3.png', 'acxnxvbsxk_7.png', 'azsmewqghg_0.png', 'axczxisdtb_5.png', 'apogckdfrz_2.png', 'akxoopqjqz_8.png', 'avtycwsgyb_1.png', 'akxoopqjqz_4.png', 'bahdpoesir_4.png', 'bahdpoesir_8.png', 'acxnxvbsxk_0.png', 'benmsfzfaz_3.png', 'bctvsmddgq_1.png', 'awhmfnnjih_4.png', 'acxwigylke_1.png', 'adohikbdaz_2.png', 'aknmpoonls_2.png', 'aelzhcnwgf_5.png', 'bchnbulevv_3.png', 'aettqgevhz_4.png', 'avnqydkqjj_6.png', 'aslsvlvpth_7.png', 'asmpfjfzif_6.png', 'bdxuhamuqx_7.png', 'azsmewqghg_5.png', 'bdxuhamuqx_5.png', 'akvmwkdyuv_6.png', 'aapnvogymq_4.png', 'asmpfjfzif_1.png', 'acxwigylke_7.png', 'ahdbuwqxit_4.png', 'ahfazfbntc_4.png', 'awhmfnnjih_3.png', 'ayqvfdhslr_1.png', 'aslsvlvpth_9.png', 'ayqvfdhslr_7.png', 'augtsuxpzc_0.png', 'aknbdpmgua_5.png', 'ahbweevwpv_8.png', 'acxwigylke_5.png', 'abqwwspghj_6.png', 'avgiuextiz_2.png', 'acxwigylke_4.png', 'aqpnvjhuzw_7.png', 'asmpfjfzif_2.png', 'agqphdxmwt_3.png', 'abqwwspghj_8.png', 'acxnxvbsxk_6.png', 'bbhpvrmbse_0.png', 'asdpeebotb_4.png', 'arlmiizoob_4.png', 'bchnbulevv_8.png', 'atxvxouljq_4.png', 'axwovszumc_9.png', 'akzbnazxtz_0.png', 'aufmsmnoye_8.png', 'aevrfsexku_7.png', 'agdkmztvby_8.png', 'apogckdfrz_4.png', 'axczxisdtb_1.png', 'acxwigylke_3.png', 'avfitoutyn_0.png', 'atyntldecu_0.png', 'aevrfsexku_9.png', 'akvmwkdyuv_1.png', 'ahbweevwpv_2.png', 'alaijyygdv_0.png', 'akvmwkdyuv_8.png', 'agqphdxmwt_8.png', 'arkroixhey_2.png', 'aladcziidp_0.png', 'aelzhcnwgf_3.png', 'bdgipnyobr_9.png', 'arkroixhey_3.png', 'awukslzjra_3.png', 'ayqvfdhslr_0.png', 'alaijyygdv_1.png', 'bdgipnyobr_6.png', 'aslsvlvpth_0.png', 'akzbnazxtz_7.png', 'aorjvbyxhw_7.png', 'amowujxmzc_6.png', 'alaijyygdv_2.png', 'alninxcyhg_3.png', 'arrhsnjqku_7.png', 'abqwwspghj_4.png', 'bctvsmddgq_7.png', 'ahfazfbntc_9.png', 'akvmwkdyuv_7.png', 'aknbdpmgua_8.png', 'ahfazfbntc_7.png', 'aevrfsexku_4.png', 'atxvxouljq_3.png', 'alninxcyhg_0.png', 'acifjvzvpm_9.png', 'aladcziidp_6.png', 'adylbeequz_5.png', 'aevrfsexku_8.png', 'apatcsqejh_7.png', 'axwovszumc_3.png', 'aklqzsddfl_7.png', 'aettqgevhz_2.png', 'acifjvzvpm_5.png', 'axwovszumc_6.png', 'amaivqofda_6.png', 'bdgipnyobr_8.png', 'avgiuextiz_9.png', 'arrhsnjqku_8.png', 'atyntldecu_3.png', 'aneclqfpbt_9.png', 'agdkmztvby_5.png', 'bbhpvrmbse_6.png', 'aknbdpmgua_3.png', 'aslsvlvpth_6.png', 'bdbhekrrwo_1.png', 'apgjqzkoma_3.png', 'aapnvogymq_7.png', 'aklqzsddfl_1.png', 'aneclqfpbt_5.png', 'asmpfjfzif_3.png', 'ayqvfdhslr_4.png', 'alvgwypubw_1.png', 'amaivqofda_9.png', 'atzdznmder_2.png', 'bgaogsjehq_7.png', 'axoygtekut_7.png', 'ajwpjhrbcv_2.png', 'bgaogsjehq_5.png', 'aklqzsddfl_5.png', 'avtycwsgyb_6.png', 'altziddtxi_9.png', 'avywawptfc_3.png', 'awhmfnnjih_2.png', 'aknmpoonls_9.png', 'ahfazfbntc_1.png', 'akzbnazxtz_1.png', 'aneclqfpbt_0.png', 'augtsuxpzc_5.png', 'asdpeebotb_7.png', 'bgaogsjehq_8.png', 'bbhpvrmbse_7.png', 'aipfdnwpoo_1.png', 'aorjvbyxhw_6.png', 'abqwwspghj_5.png', 'bdgipnyobr_0.png', 'acqfdwsrhi_2.png', 'aknbdpmgua_4.png', 'amowujxmzc_2.png', 'awukslzjra_5.png', 'acifjvzvpm_3.png', 'benmsfzfaz_9.png', 'axoygtekut_5.png', 'avgiuextiz_3.png', 'bdgipnyobr_5.png', 'azpuxunqyo_2.png', 'asvcrfdpnq_5.png', 'aapnvogymq_6.png', 'apgjqzkoma_2.png', 'acifjvzvpm_8.png', 'avfitoutyn_4.png', 'ajwpjhrbcv_3.png', 'alvgwypubw_6.png', 'aapnvogymq_5.png', 'bchnbulevv_2.png', 'awhmfnnjih_7.png', 'acxwigylke_6.png', 'axwovszumc_2.png', 'benmsfzfaz_2.png', 'aapnvogymq_9.png', 'avnqydkqjj_0.png', 'aorjvbyxhw_2.png', 'aslsvlvpth_2.png', 'avssvvsdhz_3.png', 'asdpeebotb_3.png', 'axoygtekut_8.png', 'bbhpvrmbse_3.png', 'bdxuhamuqx_3.png', 'aqpnvjhuzw_8.png', 'atyntldecu_2.png', 'aknmpoonls_0.png', 'avtycwsgyb_0.png', 'axoygtekut_6.png', 'abqwwspghj_1.png', 'bahdpoesir_9.png', 'alninxcyhg_6.png', 'axwovszumc_0.png', 'atyntldecu_4.png', 'axczxisdtb_4.png', 'avgiuextiz_5.png', 'bdxuhamuqx_6.png', 'aelzhcnwgf_7.png', 'awukslzjra_8.png', 'bdgipnyobr_3.png', 'ayqvfdhslr_2.png', 'arkroixhey_6.png', 'bdxuhamuqx_0.png', 'awnwkrqibf_4.png', 'avssvvsdhz_1.png', 'ahdbuwqxit_6.png', 'awhmfnnjih_9.png', 'aipfdnwpoo_7.png', 'ahdbuwqxit_9.png', 'arlmiizoob_6.png', 'akvmwkdyuv_9.png', 'aipfdnwpoo_8.png', 'aneclqfpbt_1.png', 'atyntldecu_1.png', 'awhmfnnjih_6.png', 'azpuxunqyo_9.png', 'alvgwypubw_5.png', 'aladcziidp_3.png', 'bdgipnyobr_1.png', 'bdbhekrrwo_2.png', 'agqphdxmwt_9.png', 'avywawptfc_1.png', 'aczrgyricp_4.png', 'ajwpjhrbcv_5.png', 'azpuxunqyo_1.png', 'avgiuextiz_8.png', 'aqpnvjhuzw_4.png', 'aklqzsddfl_3.png', 'avnqydkqjj_1.png', 'bbhpvrmbse_1.png', 'acxwigylke_0.png', 'awukslzjra_6.png', 'akxoopqjqz_7.png', 'alninxcyhg_9.png', 'asvcrfdpnq_9.png', 'axczxisdtb_3.png', 'avnqydkqjj_7.png', 'aipfdnwpoo_0.png', 'axoygtekut_1.png', 'axoygtekut_9.png', 'arkroixhey_4.png', 'amowujxmzc_9.png', 'akzbnazxtz_5.png', 'aorjvbyxhw_8.png', 'ayqvfdhslr_3.png', 'azsmewqghg_1.png', 'aelzhcnwgf_2.png', 'axoygtekut_4.png', 'acqfdwsrhi_0.png', 'adylbeequz_8.png', 'akzbnazxtz_2.png', 'bbhtdfuqxq_1.png', 'azsmewqghg_8.png', 'aagfhgtpmv_2.png', 'acqfdwsrhi_4.png', 'agdkmztvby_6.png', 'aipfdnwpoo_4.png', 'ahfazfbntc_0.png', 'aelzhcnwgf_4.png', 'aorjvbyxhw_9.png', 'agqphdxmwt_2.png', 'avgiuextiz_0.png', 'bbhtdfuqxq_8.png', 'apatcsqejh_9.png', 'aagfhgtpmv_4.png', 'aevrfsexku_5.png', 'agdkmztvby_4.png', 'acxwigylke_9.png', 'axwovszumc_7.png', 'awukslzjra_0.png', 'axczxisdtb_6.png', 'augtsuxpzc_4.png', 'awnwkrqibf_0.png', 'aqpnvjhuzw_6.png', 'aelzhcnwgf_1.png', 'aagfhgtpmv_8.png', 'apgjqzkoma_8.png', 'aqpnvjhuzw_5.png', 'arrhsnjqku_5.png', 'apatcsqejh_5.png', 'aslsvlvpth_3.png', 'aelzhcnwgf_9.png', 'bdbhekrrwo_7.png', 'avtycwsgyb_5.png', 'apogckdfrz_8.png', 'akzbnazxtz_4.png', 'agqphdxmwt_5.png', 'ahfazfbntc_3.png', 'aagfhgtpmv_3.png', 'adohikbdaz_8.png', 'aorjvbyxhw_3.png', 'awhmfnnjih_5.png', 'awukslzjra_1.png', 'aufmsmnoye_7.png', 'axwovszumc_4.png', 'azpuxunqyo_0.png', 'atzdznmder_5.png', 'avnqydkqjj_2.png', 'aevrfsexku_1.png', 'apogckdfrz_9.png', 'bbhtdfuqxq_6.png', 'asdpeebotb_6.png', 'aapnvogymq_0.png', 'bgaogsjehq_3.png', 'alvgwypubw_0.png', 'avtycwsgyb_7.png', 'ayqvfdhslr_6.png', 'adylbeequz_0.png', 'alaijyygdv_5.png', 'avfitoutyn_2.png', 'bdbhekrrwo_4.png', 'benmsfzfaz_1.png', 'atxvxouljq_2.png', 'aknbdpmgua_7.png', 'avssvvsdhz_8.png', 'aipfdnwpoo_2.png', 'akxoopqjqz_6.png', 'bchnbulevv_9.png', 'bdbhekrrwo_9.png', 'bctvsmddgq_9.png', 'aevrfsexku_3.png', 'bdbhekrrwo_3.png', 'axczxisdtb_9.png', 'avtycwsgyb_2.png', 'bchnbulevv_1.png', 'aknmpoonls_6.png', 'atxvxouljq_9.png', 'aneclqfpbt_3.png', 'asdpeebotb_1.png', 'alaijyygdv_8.png', 'akxoopqjqz_1.png', 'avgiuextiz_7.png', 'arrhsnjqku_0.png', 'avfitoutyn_7.png', 'ahbweevwpv_5.png', 'atyntldecu_8.png', 'awnwkrqibf_6.png', 'abqwwspghj_0.png', 'aczrgyricp_9.png', 'ahdbuwqxit_0.png', 'agdkmztvby_1.png', 'acqfdwsrhi_9.png', 'arlmiizoob_7.png', 'asvcrfdpnq_2.png', 'agdkmztvby_0.png', 'bbhtdfuqxq_4.png', 'avssvvsdhz_7.png', 'atzdznmder_1.png', 'atzdznmder_8.png', 'asvcrfdpnq_6.png', 'aufmsmnoye_2.png', 'bgaogsjehq_6.png', 'axczxisdtb_0.png', 'acxwigylke_8.png', 'ahdbuwqxit_2.png', 'avibnnhwhp_5.png', 'aagfhgtpmv_1.png', 'adylbeequz_2.png', 'aknmpoonls_4.png', 'acifjvzvpm_2.png', 'bdgipnyobr_2.png', 'bctvsmddgq_0.png', 'aknmpoonls_3.png', 'asmpfjfzif_5.png', 'apogckdfrz_6.png', 'avssvvsdhz_5.png', 'arlmiizoob_2.png', 'arkroixhey_7.png', 'avfitoutyn_3.png', 'avssvvsdhz_9.png', 'aqpnvjhuzw_9.png', 'bdgipnyobr_4.png', 'ayqvfdhslr_5.png', 'atzdznmder_4.png', 'ahbweevwpv_3.png', 'bctvsmddgq_6.png', 'arlmiizoob_1.png', 'ayqvfdhslr_8.png', 'azsmewqghg_4.png', 'ahdbuwqxit_7.png', 'avywawptfc_7.png', 'arkroixhey_5.png', 'avywawptfc_6.png', 'bdxuhamuqx_8.png', 'akvmwkdyuv_2.png', 'avnqydkqjj_8.png', 'ahbweevwpv_9.png', 'abqwwspghj_3.png', 'apogckdfrz_1.png', 'avssvvsdhz_6.png', 'altziddtxi_5.png', 'ahdbuwqxit_8.png', 'apogckdfrz_0.png', 'adohikbdaz_6.png', 'adohikbdaz_7.png', 'akvmwkdyuv_3.png', 'aettqgevhz_0.png', 'atyntldecu_6.png', 'arlmiizoob_3.png', 'awnwkrqibf_2.png', 'aqpnvjhuzw_3.png', 'acxnxvbsxk_3.png', 'azsmewqghg_9.png', 'azsmewqghg_7.png', 'atzdznmder_9.png', 'awnwkrqibf_1.png', 'apgjqzkoma_1.png', 'atyntldecu_7.png', 'aladcziidp_7.png', 'adohikbdaz_9.png', 'aladcziidp_1.png', 'adylbeequz_7.png', 'avssvvsdhz_4.png', 'apatcsqejh_6.png', 'atxvxouljq_8.png', 'azsmewqghg_2.png', 'adylbeequz_9.png', 'ajwpjhrbcv_0.png', 'alaijyygdv_6.png', 'axczxisdtb_8.png', 'amowujxmzc_4.png', 'aneclqfpbt_6.png', 'avfitoutyn_5.png', 'ajwpjhrbcv_7.png', 'augtsuxpzc_9.png', 'avgiuextiz_1.png', 'arkroixhey_9.png', 'aczrgyricp_0.png', 'altziddtxi_8.png', 'bbhtdfuqxq_7.png', 'bdbhekrrwo_0.png', 'acxwigylke_2.png', 'avtycwsgyb_8.png', 'ahbweevwpv_1.png', 'aufmsmnoye_6.png', 'avtycwsgyb_4.png', 'avibnnhwhp_2.png', 'ahbweevwpv_4.png', 'acxnxvbsxk_1.png', 'avibnnhwhp_4.png', 'benmsfzfaz_4.png', 'asvcrfdpnq_8.png', 'bchnbulevv_0.png', 'aettqgevhz_1.png', 'apgjqzkoma_5.png', 'aczrgyricp_6.png', 'bchnbulevv_6.png', 'aipfdnwpoo_6.png', 'asvcrfdpnq_0.png']\n"
          ]
        }
      ],
      "source": [
        "# Download latest version\n",
        "path = kagglehub.dataset_download(\"vijaydevane/deepfake-detection-challenge-dataset-face-images\")\n",
        "\n",
        "print(\"Path to dataset files:\", path)\n",
        "\n",
        "# Check downloaded files\n",
        "print(os.listdir(path))\n",
        "\n",
        "# Check the 'real' and 'fake' folders inside\n",
        "real_path = os.path.join(path, \"real\")\n",
        "fake_path = os.path.join(path, \"fake\")\n",
        "\n",
        "print(\"Real folder contents:\", os.listdir(real_path))\n",
        "print(\"Fake folder contents:\", os.listdir(fake_path))\n"
      ]
    },
    {
      "cell_type": "markdown",
      "metadata": {
        "id": "8b0gTfxZKS67"
      },
      "source": [
        "##Load Images"
      ]
    },
    {
      "cell_type": "code",
      "execution_count": null,
      "metadata": {
        "colab": {
          "base_uri": "https://localhost:8080/"
        },
        "id": "DhYepp3QKRa4",
        "outputId": "543698cf-0b6e-4fd7-e8ae-e959a80f0524"
      },
      "outputs": [
        {
          "output_type": "stream",
          "name": "stdout",
          "text": [
            "Loaded 760 real images and 770 fake images.\n"
          ]
        }
      ],
      "source": [
        "from PIL import Image\n",
        "import glob\n",
        "\n",
        "# Load real images\n",
        "real_images = [Image.open(img) for img in glob.glob(f\"{real_path}/*\")]\n",
        "\n",
        "# Load fake images\n",
        "fake_images = [Image.open(img) for img in glob.glob(f\"{fake_path}/*\")]\n",
        "\n",
        "print(f\"Loaded {len(real_images)} real images and {len(fake_images)} fake images.\")"
      ]
    },
    {
      "cell_type": "code",
      "execution_count": null,
      "metadata": {
        "id": "tmQJN9r0JrJw"
      },
      "outputs": [],
      "source": [
        "#Preprocess Dataset Function\n",
        "def preprocess_images(image_list, size=(128, 128)):\n",
        "    processed_images = []\n",
        "    for img in image_list:\n",
        "        img = img.resize(size)\n",
        "        img_array = np.array(img) / 255.0\n",
        "        processed_images.append(img_array)\n",
        "    return np.array(processed_images)\n",
        "\n",
        "\n",
        "# Preprocess\n",
        "real_images_array = preprocess_images(real_images)\n",
        "fake_images_array = preprocess_images(fake_images)\n",
        "\n",
        "# Create labels\n",
        "real_labels = np.ones(len(real_images_array))\n",
        "fake_labels = np.zeros(len(fake_images_array))\n",
        "\n",
        "# Combine images and labels\n",
        "all_images = np.concatenate((real_images_array, fake_images_array), axis=0)\n",
        "all_labels = np.concatenate((real_labels, fake_labels), axis=0)\n",
        "\n",
        "# K-Fold Cross Validation\n",
        "kf = KFold(n_splits=3, shuffle=True, random_state=42)\n",
        "\n"
      ]
    },
    {
      "cell_type": "markdown",
      "metadata": {
        "id": "8SJ2rnUGLal4"
      },
      "source": [
        "##Build Models"
      ]
    },
    {
      "cell_type": "code",
      "execution_count": null,
      "metadata": {
        "id": "zQOJZ0J7LZ4-"
      },
      "outputs": [],
      "source": [
        "# Step 2: AlexNet Implementation (PyTorch)\n",
        "def build_alexnet_pytorch():\n",
        "    model = models.alexnet(pretrained=True)\n",
        "    model.classifier[6] = nn.Linear(4096, 1)  # Binary classification\n",
        "    return model\n",
        "\n",
        "def train_alexnet(model, train_loader, val_loader, learning_rate, epochs=5):\n",
        "    device = torch.device(\"cuda\" if torch.cuda.is_available() else \"cpu\")\n",
        "    model = model.to(device)\n",
        "\n",
        "    criterion = nn.BCEWithLogitsLoss()\n",
        "    optimizer = optim.SGD(model.parameters(), lr=learning_rate, momentum=0.9)\n",
        "\n",
        "    for epoch in range(epochs):\n",
        "        model.train()\n",
        "        running_loss = 0.0\n",
        "        for inputs, labels in train_loader:\n",
        "            inputs, labels = inputs.to(device), labels.to(device)\n",
        "\n",
        "            optimizer.zero_grad()\n",
        "            outputs = model(inputs).squeeze()\n",
        "            loss = criterion(outputs, labels)\n",
        "            loss.backward()\n",
        "            optimizer.step()\n",
        "\n",
        "            running_loss += loss.item()\n",
        "        print(f\"Epoch {epoch+1}/{epochs}, Loss: {running_loss/len(train_loader):.4f}\")\n",
        "\n",
        "    return model\n",
        "\n",
        "# Step 3: VGG16 Implementation (TensorFlow/Keras)\n",
        "def build_vgg16(learning_rate):\n",
        "    base_model = VGG16(weights=\"imagenet\", include_top=False, input_shape=(128, 128, 3))\n",
        "    x = Flatten()(base_model.output)\n",
        "    x = Dense(256, activation=\"relu\")(x)\n",
        "    x = Dense(1, activation=\"sigmoid\")(x)  # Binary classification\n",
        "    model = Model(inputs=base_model.input, outputs=x)\n",
        "\n",
        "    optimizer = SGD(learning_rate=learning_rate, momentum=0.9)\n",
        "    model.compile(optimizer=optimizer, loss=\"binary_crossentropy\", metrics=[\"accuracy\"])\n",
        "    return model\n"
      ]
    },
    {
      "cell_type": "markdown",
      "metadata": {
        "id": "vu8a_K3fLgmC"
      },
      "source": [
        "##Train and test models"
      ]
    },
    {
      "cell_type": "code",
      "execution_count": null,
      "metadata": {
        "colab": {
          "base_uri": "https://localhost:8080/"
        },
        "id": "8P6YZ2l5LfcF",
        "outputId": "c5800798-9e4e-453a-a3f5-8b85a8f9c49e"
      },
      "outputs": [
        {
          "output_type": "stream",
          "name": "stdout",
          "text": [
            "\n",
            "Training AlexNet for Fold 1\n",
            "Epoch 1/5, Loss: 0.6512\n",
            "Epoch 2/5, Loss: 0.4829\n",
            "Epoch 3/5, Loss: 0.3956\n",
            "Epoch 4/5, Loss: 0.3286\n",
            "Epoch 5/5, Loss: 0.2348\n",
            "\n",
            "Training VGG16 for Fold 1\n",
            "Epoch 1/5\n",
            "\u001b[1m26/26\u001b[0m \u001b[32m━━━━━━━━━━━━━━━━━━━━\u001b[0m\u001b[37m\u001b[0m \u001b[1m673s\u001b[0m 26s/step - accuracy: 0.6071 - loss: 0.6880 - val_accuracy: 0.5245 - val_loss: 0.6821\n",
            "Epoch 2/5\n",
            "\u001b[1m26/26\u001b[0m \u001b[32m━━━━━━━━━━━━━━━━━━━━\u001b[0m\u001b[37m\u001b[0m \u001b[1m638s\u001b[0m 24s/step - accuracy: 0.7326 - loss: 0.5653 - val_accuracy: 0.5245 - val_loss: 0.9038\n",
            "Epoch 3/5\n",
            "\u001b[1m26/26\u001b[0m \u001b[32m━━━━━━━━━━━━━━━━━━━━\u001b[0m\u001b[37m\u001b[0m \u001b[1m677s\u001b[0m 24s/step - accuracy: 0.8231 - loss: 0.4431 - val_accuracy: 0.6078 - val_loss: 0.7407\n",
            "Epoch 4/5\n",
            "\u001b[1m26/26\u001b[0m \u001b[32m━━━━━━━━━━━━━━━━━━━━\u001b[0m\u001b[37m\u001b[0m \u001b[1m623s\u001b[0m 24s/step - accuracy: 0.8775 - loss: 0.3113 - val_accuracy: 0.4853 - val_loss: 1.2131\n",
            "Epoch 5/5\n",
            "\u001b[1m26/26\u001b[0m \u001b[32m━━━━━━━━━━━━━━━━━━━━\u001b[0m\u001b[37m\u001b[0m \u001b[1m680s\u001b[0m 24s/step - accuracy: 0.8538 - loss: 0.3353 - val_accuracy: 0.7696 - val_loss: 0.4255\n",
            "\n",
            "Testing Results for Fold 1\n",
            "AlexNet:\n",
            "              precision    recall  f1-score   support\n",
            "\n",
            "         0.0       0.82      0.87      0.84       260\n",
            "         1.0       0.85      0.80      0.83       250\n",
            "\n",
            "    accuracy                           0.84       510\n",
            "   macro avg       0.84      0.83      0.83       510\n",
            "weighted avg       0.84      0.84      0.84       510\n",
            "\n",
            "[[225  35]\n",
            " [ 49 201]]\n",
            "\u001b[1m16/16\u001b[0m \u001b[32m━━━━━━━━━━━━━━━━━━━━\u001b[0m\u001b[37m\u001b[0m \u001b[1m101s\u001b[0m 6s/step\n",
            "VGG16:\n",
            "              precision    recall  f1-score   support\n",
            "\n",
            "         0.0       0.84      0.90      0.86       260\n",
            "         1.0       0.88      0.82      0.85       250\n",
            "\n",
            "    accuracy                           0.86       510\n",
            "   macro avg       0.86      0.86      0.86       510\n",
            "weighted avg       0.86      0.86      0.86       510\n",
            "\n",
            "[[233  27]\n",
            " [ 46 204]]\n",
            "\n",
            "Training AlexNet for Fold 2\n"
          ]
        },
        {
          "output_type": "stream",
          "name": "stderr",
          "text": [
            "/usr/local/lib/python3.10/dist-packages/torchvision/models/_utils.py:208: UserWarning: The parameter 'pretrained' is deprecated since 0.13 and may be removed in the future, please use 'weights' instead.\n",
            "  warnings.warn(\n",
            "/usr/local/lib/python3.10/dist-packages/torchvision/models/_utils.py:223: UserWarning: Arguments other than a weight enum or `None` for 'weights' are deprecated since 0.13 and may be removed in the future. The current behavior is equivalent to passing `weights=AlexNet_Weights.IMAGENET1K_V1`. You can also use `weights=AlexNet_Weights.DEFAULT` to get the most up-to-date weights.\n",
            "  warnings.warn(msg)\n"
          ]
        },
        {
          "output_type": "stream",
          "name": "stdout",
          "text": [
            "Epoch 1/5, Loss: 0.6253\n",
            "Epoch 2/5, Loss: 0.4916\n",
            "Epoch 3/5, Loss: 0.4283\n",
            "Epoch 4/5, Loss: 0.3332\n",
            "Epoch 5/5, Loss: 0.3104\n",
            "\n",
            "Training VGG16 for Fold 2\n",
            "Epoch 1/5\n",
            "\u001b[1m26/26\u001b[0m \u001b[32m━━━━━━━━━━━━━━━━━━━━\u001b[0m\u001b[37m\u001b[0m \u001b[1m631s\u001b[0m 24s/step - accuracy: 0.6368 - loss: 0.6749 - val_accuracy: 0.5980 - val_loss: 0.7006\n",
            "Epoch 2/5\n",
            "\u001b[1m26/26\u001b[0m \u001b[32m━━━━━━━━━━━━━━━━━━━━\u001b[0m\u001b[37m\u001b[0m \u001b[1m678s\u001b[0m 24s/step - accuracy: 0.7597 - loss: 0.5177 - val_accuracy: 0.5245 - val_loss: 0.9887\n",
            "Epoch 3/5\n",
            "\u001b[1m26/26\u001b[0m \u001b[32m━━━━━━━━━━━━━━━━━━━━\u001b[0m\u001b[37m\u001b[0m \u001b[1m622s\u001b[0m 24s/step - accuracy: 0.8536 - loss: 0.3766 - val_accuracy: 0.7745 - val_loss: 0.4662\n",
            "Epoch 4/5\n",
            "\u001b[1m26/26\u001b[0m \u001b[32m━━━━━━━━━━━━━━━━━━━━\u001b[0m\u001b[37m\u001b[0m \u001b[1m682s\u001b[0m 24s/step - accuracy: 0.8852 - loss: 0.2980 - val_accuracy: 0.8039 - val_loss: 0.5022\n",
            "Epoch 5/5\n",
            "\u001b[1m26/26\u001b[0m \u001b[32m━━━━━━━━━━━━━━━━━━━━\u001b[0m\u001b[37m\u001b[0m \u001b[1m688s\u001b[0m 24s/step - accuracy: 0.8811 - loss: 0.2990 - val_accuracy: 0.8382 - val_loss: 0.3311\n",
            "\n",
            "Testing Results for Fold 2\n",
            "AlexNet:\n",
            "              precision    recall  f1-score   support\n",
            "\n",
            "         0.0       0.62      0.98      0.76       238\n",
            "         1.0       0.97      0.48      0.64       272\n",
            "\n",
            "    accuracy                           0.72       510\n",
            "   macro avg       0.80      0.73      0.70       510\n",
            "weighted avg       0.81      0.72      0.70       510\n",
            "\n",
            "[[234   4]\n",
            " [141 131]]\n",
            "\u001b[1m16/16\u001b[0m \u001b[32m━━━━━━━━━━━━━━━━━━━━\u001b[0m\u001b[37m\u001b[0m \u001b[1m107s\u001b[0m 7s/step\n",
            "VGG16:\n",
            "              precision    recall  f1-score   support\n",
            "\n",
            "         0.0       0.86      0.88      0.87       238\n",
            "         1.0       0.89      0.87      0.88       272\n",
            "\n",
            "    accuracy                           0.88       510\n",
            "   macro avg       0.88      0.88      0.88       510\n",
            "weighted avg       0.88      0.88      0.88       510\n",
            "\n",
            "[[210  28]\n",
            " [ 35 237]]\n",
            "\n",
            "Training AlexNet for Fold 3\n"
          ]
        },
        {
          "output_type": "stream",
          "name": "stderr",
          "text": [
            "/usr/local/lib/python3.10/dist-packages/torchvision/models/_utils.py:208: UserWarning: The parameter 'pretrained' is deprecated since 0.13 and may be removed in the future, please use 'weights' instead.\n",
            "  warnings.warn(\n",
            "/usr/local/lib/python3.10/dist-packages/torchvision/models/_utils.py:223: UserWarning: Arguments other than a weight enum or `None` for 'weights' are deprecated since 0.13 and may be removed in the future. The current behavior is equivalent to passing `weights=AlexNet_Weights.IMAGENET1K_V1`. You can also use `weights=AlexNet_Weights.DEFAULT` to get the most up-to-date weights.\n",
            "  warnings.warn(msg)\n"
          ]
        },
        {
          "output_type": "stream",
          "name": "stdout",
          "text": [
            "Epoch 1/5, Loss: 0.6988\n",
            "Epoch 2/5, Loss: 0.5222\n",
            "Epoch 3/5, Loss: 0.4072\n",
            "Epoch 4/5, Loss: 0.3299\n",
            "Epoch 5/5, Loss: 0.2618\n",
            "\n",
            "Training VGG16 for Fold 3\n",
            "Epoch 1/5\n",
            "\u001b[1m26/26\u001b[0m \u001b[32m━━━━━━━━━━━━━━━━━━━━\u001b[0m\u001b[37m\u001b[0m \u001b[1m625s\u001b[0m 24s/step - accuracy: 0.6191 - loss: 0.6694 - val_accuracy: 0.6716 - val_loss: 0.6310\n",
            "Epoch 2/5\n",
            "\u001b[1m26/26\u001b[0m \u001b[32m━━━━━━━━━━━━━━━━━━━━\u001b[0m\u001b[37m\u001b[0m \u001b[1m685s\u001b[0m 24s/step - accuracy: 0.7820 - loss: 0.4990 - val_accuracy: 0.2941 - val_loss: 1.2895\n",
            "Epoch 3/5\n",
            "\u001b[1m26/26\u001b[0m \u001b[32m━━━━━━━━━━━━━━━━━━━━\u001b[0m\u001b[37m\u001b[0m \u001b[1m626s\u001b[0m 24s/step - accuracy: 0.7782 - loss: 0.4468 - val_accuracy: 0.8088 - val_loss: 0.3954\n",
            "Epoch 4/5\n",
            "\u001b[1m26/26\u001b[0m \u001b[32m━━━━━━━━━━━━━━━━━━━━\u001b[0m\u001b[37m\u001b[0m \u001b[1m625s\u001b[0m 24s/step - accuracy: 0.8694 - loss: 0.3008 - val_accuracy: 0.7794 - val_loss: 0.4305\n",
            "Epoch 5/5\n",
            "\u001b[1m26/26\u001b[0m \u001b[32m━━━━━━━━━━━━━━━━━━━━\u001b[0m\u001b[37m\u001b[0m \u001b[1m720s\u001b[0m 26s/step - accuracy: 0.9499 - loss: 0.1722 - val_accuracy: 0.9559 - val_loss: 0.1046\n",
            "\n",
            "Testing Results for Fold 3\n",
            "AlexNet:\n",
            "              precision    recall  f1-score   support\n",
            "\n",
            "         0.0       0.76      0.97      0.85       272\n",
            "         1.0       0.94      0.64      0.77       238\n",
            "\n",
            "    accuracy                           0.82       510\n",
            "   macro avg       0.85      0.80      0.81       510\n",
            "weighted avg       0.84      0.82      0.81       510\n",
            "\n",
            "[[263   9]\n",
            " [ 85 153]]\n",
            "\u001b[1m16/16\u001b[0m \u001b[32m━━━━━━━━━━━━━━━━━━━━\u001b[0m\u001b[37m\u001b[0m \u001b[1m102s\u001b[0m 6s/step\n",
            "VGG16:\n",
            "              precision    recall  f1-score   support\n",
            "\n",
            "         0.0       0.96      0.73      0.83       272\n",
            "         1.0       0.76      0.96      0.85       238\n",
            "\n",
            "    accuracy                           0.84       510\n",
            "   macro avg       0.86      0.85      0.84       510\n",
            "weighted avg       0.86      0.84      0.84       510\n",
            "\n",
            "[[198  74]\n",
            " [  9 229]]\n"
          ]
        }
      ],
      "source": [
        "\n",
        "# Step 4: Training and Testing\n",
        "fold = 1\n",
        "for train_val_index, test_index in kf.split(all_images):\n",
        "    # Split into training/validation and test\n",
        "    train_val_images = all_images[train_val_index]\n",
        "    train_val_labels = all_labels[train_val_index]\n",
        "    test_images = all_images[test_index]\n",
        "    test_labels = all_labels[test_index]\n",
        "\n",
        "    # Further split train_val into training and validation (80-20 split)\n",
        "    val_split = int(len(train_val_images) * 0.2)\n",
        "    train_images = train_val_images[val_split:]\n",
        "    train_labels = train_val_labels[val_split:]\n",
        "    val_images = train_val_images[:val_split]\n",
        "    val_labels = train_val_labels[:val_split]\n",
        "\n",
        "    # PyTorch Data Preparation\n",
        "    transform = transforms.Compose([\n",
        "        transforms.ToPILImage(),\n",
        "        transforms.Resize((128, 128)),\n",
        "        transforms.ToTensor(),\n",
        "        transforms.Normalize(mean=[0.5, 0.5, 0.5], std=[0.5, 0.5, 0.5])\n",
        "    ])\n",
        "\n",
        "    train_dataset = TensorDataset(\n",
        "        torch.stack([transform(img) for img in train_images]),\n",
        "        torch.tensor(train_labels, dtype=torch.float32)\n",
        "    )\n",
        "    val_dataset = TensorDataset(\n",
        "        torch.stack([transform(img) for img in val_images]),\n",
        "        torch.tensor(val_labels, dtype=torch.float32)\n",
        "    )\n",
        "    test_dataset = TensorDataset(\n",
        "        torch.stack([transform(img) for img in test_images]),\n",
        "        torch.tensor(test_labels, dtype=torch.float32)\n",
        "    )\n",
        "\n",
        "    train_loader = DataLoader(train_dataset, batch_size=32, shuffle=True)\n",
        "    val_loader = DataLoader(val_dataset, batch_size=32, shuffle=False)\n",
        "    test_loader = DataLoader(test_dataset, batch_size=32, shuffle=False)\n",
        "\n",
        "    # Train AlexNet\n",
        "    print(f\"\\nTraining AlexNet for Fold {fold}\")\n",
        "    alexnet_model = build_alexnet_pytorch()\n",
        "    alexnet_model = train_alexnet(alexnet_model, train_loader, val_loader, learning_rate=0.001)\n",
        "\n",
        "    # Train VGG16\n",
        "    print(f\"\\nTraining VGG16 for Fold {fold}\")\n",
        "    vgg16_model = build_vgg16(learning_rate=0.001)\n",
        "    vgg16_model.fit(train_images, train_labels, validation_data=(val_images, val_labels), epochs=5, batch_size=32)\n",
        "\n",
        "    # Testing\n",
        "    print(f\"\\nTesting Results for Fold {fold}\")\n",
        "    # AlexNet\n",
        "    alexnet_model.eval()\n",
        "    alex_preds, alex_labels = [], []\n",
        "    with torch.no_grad():\n",
        "        for inputs, labels in test_loader:\n",
        "            outputs = torch.sigmoid(alexnet_model(inputs).squeeze())\n",
        "            preds = (outputs > 0.5).float()\n",
        "            alex_preds.extend(preds.cpu().numpy())\n",
        "            alex_labels.extend(labels.cpu().numpy())\n",
        "    print(\"AlexNet:\")\n",
        "    print(classification_report(alex_labels, alex_preds))\n",
        "    print(confusion_matrix(alex_labels, alex_preds))\n",
        "\n",
        "    # VGG16\n",
        "    vgg_preds = (vgg16_model.predict(test_images) > 0.5).astype(\"int32\")\n",
        "    print(\"VGG16:\")\n",
        "    print(classification_report(test_labels, vgg_preds))\n",
        "    print(confusion_matrix(test_labels, vgg_preds))\n",
        "\n",
        "    fold += 1\n"
      ]
    }
  ],
  "metadata": {
    "accelerator": "GPU",
    "colab": {
      "gpuType": "T4",
      "provenance": [],
      "authorship_tag": "ABX9TyPh4g0zBqgY2MyEqrzpkbbX",
      "include_colab_link": true
    },
    "kernelspec": {
      "display_name": "Python 3",
      "name": "python3"
    },
    "language_info": {
      "name": "python"
    }
  },
  "nbformat": 4,
  "nbformat_minor": 0
}